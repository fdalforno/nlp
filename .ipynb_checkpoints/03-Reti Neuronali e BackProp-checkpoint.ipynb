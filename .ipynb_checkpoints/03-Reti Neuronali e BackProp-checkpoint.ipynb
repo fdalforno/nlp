{
 "cells": [
  {
   "cell_type": "markdown",
   "id": "99745be0",
   "metadata": {},
   "source": [
    "In questa lezione ci concetriamo sulla matematica dietro alle reti neuronali.\n",
    "Prendiamo come esempio l'attività di classificazione dei nomi nel testo come ad esempio:\n",
    "\n",
    "![ner](./images/ner.png)\n",
    "\n",
    "Questo sistema viene utilizzato per:\n",
    "* Tracciare le menzioni di particolari entità nei documenti\n",
    "* Nei sistemi di question answering, in quanto spesso le risposte sono named entities\n",
    "\n",
    "Spesso questo viene seguito da una analisi Entity Linking/Canonization su una base di conoscenza come ad esempio wikidata.\n",
    "Possiamo iniziare a pensare un sistema semplice per questa attività utilizzando un classificatore a finestra mediante un classificatore logistico binario.\n",
    "\n",
    "L'idea è quella di addestrare un classificatore logistico binario, su un insieme di dati classificati a mano in modo da classificare la parola centrale (si/no) utilizzando le parole della finestra, di solito le classi sono più di una ma per il momento teniamo semplice il problema\n",
    "\n",
    "**Esempio:** vogliamo classificare la parola Paris come entità location in un contesto con una finestra di dimensione 2 della frase: the museum in Paris are amazing to see.\n",
    "\n",
    "La finestra per Paris sarà: $X_{window} = [x_{museum},x_{in},x_{Paris},x_{are},x_{amazing}]^{T}$ con $X_{window} \\in \\mathbb{R} ^ {5d}$ vettore colonna.\n",
    "\n",
    "Questo vettore verrà poi usato nella rete neuroale, per eseguire la classificazione.\n",
    "I dati con cui avremo a che fare non saranno separabili linearmente, Le reti neuronali sono una famiglia di classificatori non lineari, questa è l'abilità delle reti neuronali.\n",
    "\n",
    "![linear vs non linear](./images/linear_non_linear.png)\n",
    "\n",
    "## Il neurone\n",
    "\n"
   ]
  },
  {
   "cell_type": "code",
   "execution_count": null,
   "id": "cec8f7e1",
   "metadata": {},
   "outputs": [],
   "source": []
  }
 ],
 "metadata": {
  "kernelspec": {
   "display_name": "Python 3 (ipykernel)",
   "language": "python",
   "name": "python3"
  },
  "language_info": {
   "codemirror_mode": {
    "name": "ipython",
    "version": 3
   },
   "file_extension": ".py",
   "mimetype": "text/x-python",
   "name": "python",
   "nbconvert_exporter": "python",
   "pygments_lexer": "ipython3",
   "version": "3.9.7"
  }
 },
 "nbformat": 4,
 "nbformat_minor": 5
}
