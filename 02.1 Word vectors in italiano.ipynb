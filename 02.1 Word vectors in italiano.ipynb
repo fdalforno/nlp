{
 "cells": [
  {
   "cell_type": "markdown",
   "id": "7f61c09f",
   "metadata": {},
   "source": [
    "Avere dei buoni word vectors in italiano è un problema, facebook ci da la possibilità di usare una implementazione FastText specifica per l'italiano vediamo come caricare questi vettori e valutiamo la qualità degli stessi"
   ]
  },
  {
   "cell_type": "markdown",
   "id": "d4054048",
   "metadata": {},
   "source": [
    "https://datascience.stackexchange.com/questions/20071/how-do-i-load-fasttext-pretrained-model-with-gensim"
   ]
  },
  {
   "cell_type": "code",
   "execution_count": 29,
   "id": "1c559607",
   "metadata": {},
   "outputs": [],
   "source": [
    "import spacy\n",
    "import numpy as np\n",
    "nlp = spacy.load('it_core_news_lg')\n",
    "\n",
    "\n",
    "italian_vec = nlp.vocab"
   ]
  },
  {
   "cell_type": "code",
   "execution_count": 49,
   "id": "22078a6f",
   "metadata": {},
   "outputs": [
    {
     "data": {
      "text/plain": [
       "[('pasta', 1.0),\n",
       " ('pastafrolla', 0.8503),\n",
       " ('pastasfoglia', 0.8327),\n",
       " ('pastaia', 0.7654),\n",
       " ('farina', 0.7435),\n",
       " ('pastasciutta', 0.7433),\n",
       " ('pastiera', 0.7412),\n",
       " ('impasta', 0.7345),\n",
       " ('farcitura', 0.725),\n",
       " ('pastai', 0.7247)]"
      ]
     },
     "execution_count": 49,
     "metadata": {},
     "output_type": "execute_result"
    }
   ],
   "source": [
    "def most_similar(word, topn=5):\n",
    "    word = italian_vec[str(word)]\n",
    "    if word.has_vector:\n",
    "        most_similar = italian_vec.vectors.most_similar(np.asarray([word.vector]), n=topn)\n",
    "        result = []\n",
    "        for index,similarity in zip(most_similar[0][0],most_similar[2][0]):\n",
    "            result.append((italian_vec.strings[index],similarity))\n",
    "        return result\n",
    "    else:\n",
    "        print('La parola {0} non è presente nel dizionario'.format(word))\n",
    "\n",
    "most_similar(\"pasta\", topn=10)"
   ]
  },
  {
   "cell_type": "code",
   "execution_count": 50,
   "id": "311b2f43",
   "metadata": {},
   "outputs": [
    {
     "data": {
      "text/plain": [
       "[('nero', 1.0),\n",
       " ('bianco', 0.8356),\n",
       " ('nero-', 0.7555),\n",
       " ('grigio', 0.731),\n",
       " ('rosso', 0.7051),\n",
       " ('nero/', 0.6662),\n",
       " ('scuro', 0.6638),\n",
       " ('marrone', 0.6568),\n",
       " ('blu', 0.6502),\n",
       " ('scuro/', 0.6269)]"
      ]
     },
     "execution_count": 50,
     "metadata": {},
     "output_type": "execute_result"
    }
   ],
   "source": [
    "most_similar(\"nero\", topn=10)"
   ]
  },
  {
   "cell_type": "code",
   "execution_count": 51,
   "id": "15be038f",
   "metadata": {},
   "outputs": [
    {
     "data": {
      "text/plain": [
       "[('negro', 1.0),\n",
       " ('negrone', 0.6998),\n",
       " ('negros', 0.6814),\n",
       " ('negra', 0.6575),\n",
       " ('negriero', 0.623),\n",
       " ('negroide', 0.6149),\n",
       " ('barbone', 0.5947),\n",
       " ('negri', 0.5712),\n",
       " ('porco', 0.5587),\n",
       " ('lurido', 0.5449)]"
      ]
     },
     "execution_count": 51,
     "metadata": {},
     "output_type": "execute_result"
    }
   ],
   "source": [
    "most_similar(\"negro\", topn=10)"
   ]
  },
  {
   "cell_type": "code",
   "execution_count": 53,
   "id": "b81a5b2e",
   "metadata": {},
   "outputs": [
    {
     "data": {
      "text/plain": [
       "[('omossessuale', 1.0),\n",
       " ('omossessualità', 0.883),\n",
       " ('omossessuali', 0.8372),\n",
       " ('omosessuale', 0.8261),\n",
       " ('Omosessuale', 0.803),\n",
       " ('asessuale', 0.7982),\n",
       " ('eterosessuale', 0.7908),\n",
       " ('Eterosessuale', 0.7904),\n",
       " ('psicosessuale', 0.7829),\n",
       " ('pansessuale', 0.7828)]"
      ]
     },
     "execution_count": 53,
     "metadata": {},
     "output_type": "execute_result"
    }
   ],
   "source": [
    "most_similar(\"omossessuale\", topn=10)"
   ]
  },
  {
   "cell_type": "code",
   "execution_count": 130,
   "id": "1dd7f4ff",
   "metadata": {},
   "outputs": [
    {
     "name": "stdout",
     "output_type": "stream",
     "text": [
      "lavoratrice 0.669\n",
      "Lavoratrice 0.5551\n",
      "retribuzione 0.5161\n",
      "lavoratore 0.5123\n",
      "lavorativa 0.5117\n"
     ]
    }
   ],
   "source": [
    "worda = 'uomo'\n",
    "wordb = 'lavoratore'\n",
    "wordc = 'donna'\n",
    "\n",
    "xa, xb, xc = [italian_vec[w].vector for w in [worda, wordb, wordc]]\n",
    "most_similar = italian_vec.vectors.most_similar(np.asarray([xb-xa+xc]),n=5)\n",
    "for index,similarity in zip(most_similar[0][0],most_similar[2][0]):\n",
    "    print(italian_vec.strings[index],similarity)"
   ]
  },
  {
   "cell_type": "code",
   "execution_count": 132,
   "id": "930b6958",
   "metadata": {},
   "outputs": [],
   "source": [
    "def analogy(worda,wordb,wordc,topn = 5):\n",
    "    xa, xb, xc = [italian_vec[w].vector for w in [worda, wordb, wordc]]\n",
    "    most_similar = italian_vec.vectors.most_similar(np.asarray([xb-xa+xc]),n=topn)\n",
    "    result = []\n",
    "    for index,similarity in zip(most_similar[0][0],most_similar[2][0]):\n",
    "        result.append((italian_vec.strings[index],similarity))\n",
    "    return result"
   ]
  },
  {
   "cell_type": "code",
   "execution_count": 140,
   "id": "1054f540",
   "metadata": {},
   "outputs": [
    {
     "data": {
      "text/plain": [
       "[('onesto', 0.7286),\n",
       " ('disonesto', 0.6172),\n",
       " ('onestá', 0.5562),\n",
       " ('onest', 0.5501),\n",
       " ('onesta', 0.5452)]"
      ]
     },
     "execution_count": 140,
     "metadata": {},
     "output_type": "execute_result"
    }
   ],
   "source": [
    "analogy('italiano','onesto','extracomunitario')"
   ]
  },
  {
   "cell_type": "code",
   "execution_count": 150,
   "id": "aca53571",
   "metadata": {},
   "outputs": [
    {
     "data": {
      "text/plain": [
       "[('lavoratrice', 0.6181),\n",
       " ('badante', 0.5643),\n",
       " ('rumena', 0.5462),\n",
       " ('Lavoratrice', 0.4984),\n",
       " ('colf', 0.4963)]"
      ]
     },
     "execution_count": 150,
     "metadata": {},
     "output_type": "execute_result"
    }
   ],
   "source": [
    "analogy('italiana','lavoratrice','rumena')"
   ]
  },
  {
   "cell_type": "code",
   "execution_count": 156,
   "id": "95864a12",
   "metadata": {},
   "outputs": [
    {
     "data": {
      "text/plain": [
       "[('ozio', 0.7145),\n",
       " ('lavoro', 0.5187),\n",
       " ('riposo', 0.5154),\n",
       " ('lavoro-', 0.4986),\n",
       " ('lavoro/', 0.492)]"
      ]
     },
     "execution_count": 156,
     "metadata": {},
     "output_type": "execute_result"
    }
   ],
   "source": [
    "analogy('politica','lavoro','ozio')"
   ]
  },
  {
   "cell_type": "code",
   "execution_count": null,
   "id": "40867bf8",
   "metadata": {},
   "outputs": [],
   "source": []
  }
 ],
 "metadata": {
  "kernelspec": {
   "display_name": "Python 3 (ipykernel)",
   "language": "python",
   "name": "python3"
  },
  "language_info": {
   "codemirror_mode": {
    "name": "ipython",
    "version": 3
   },
   "file_extension": ".py",
   "mimetype": "text/x-python",
   "name": "python",
   "nbconvert_exporter": "python",
   "pygments_lexer": "ipython3",
   "version": "3.9.7"
  }
 },
 "nbformat": 4,
 "nbformat_minor": 5
}
